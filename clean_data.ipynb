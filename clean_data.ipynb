{
 "cells": [
  {
   "cell_type": "code",
   "execution_count": 1,
   "metadata": {},
   "outputs": [],
   "source": [
    "import os\n",
    "import numpy as np\n",
    "import pandas as pd\n",
    "\n",
    "from tqdm import tqdm\n",
    "\n",
    "import wavio\n",
    "from scipy.io import wavfile\n",
    "from librosa.core import resample, to_mono\n",
    "from glob import glob\n"
   ]
  },
  {
   "cell_type": "code",
   "execution_count": 8,
   "metadata": {},
   "outputs": [],
   "source": [
    "src_root = 'raw_data'\n",
    "dst_root = 'clean'\n",
    "dt = 1.0\n",
    "sample_f = 44100\n",
    "dummy_file = 'finger_snaps_1_4'\n",
    "threshold = 120"
   ]
  },
  {
   "cell_type": "code",
   "execution_count": 9,
   "metadata": {},
   "outputs": [],
   "source": [
    "def check_dir(path):\n",
    "    if os.path.exists(path) is False:\n",
    "        os.mkdir(path)"
   ]
  },
  {
   "cell_type": "code",
   "execution_count": 10,
   "metadata": {},
   "outputs": [],
   "source": [
    "def envelope(y, rate, t):\n",
    "    mask = []\n",
    "    y = pd.Series(y).apply(np.abs)\n",
    "    y_mean = y.rolling(window = int(rate/30), min_periods=1,center=True).mean()\n",
    "    for mean in y_mean:\n",
    "        if mean > threshold:\n",
    "            mask.append(True)\n",
    "        else:\n",
    "            mask.append(False)\n",
    "    return mask, y_mean"
   ]
  },
  {
   "cell_type": "code",
   "execution_count": 11,
   "metadata": {},
   "outputs": [],
   "source": [
    "def downsample_mono(path, sf):\n",
    "    obj = wavio.read(path)\n",
    "    wav = obj.data.astype(np.float32,order='F')\n",
    "    rate = obj.rate\n",
    "    try:\n",
    "        channel = wav.shape[1]\n",
    "        if channel == 2:\n",
    "            wav = to_mono(wav.T)\n",
    "        elif channel == 1:\n",
    "            wav = to_mono(wav.reshape(-1))\n",
    "    except IndexError:\n",
    "        wav = to_mono(wav.reshape(-1))\n",
    "        pass\n",
    "    except Exception as exc:\n",
    "        raise exc\n",
    "    wav = resample(wav, orig_sr = rate, target_sr = sf)\n",
    "    wav = wav.astype(np.int16)\n",
    "    return sf, wav"
   ]
  },
  {
   "cell_type": "code",
   "execution_count": 12,
   "metadata": {},
   "outputs": [],
   "source": [
    "def save_sample(sample, rate, target_dir, f, ix):\n",
    "    f = f.split('.wav')[0]\n",
    "    dst_path = os.path.join(target_dir.split('.')[0],f + f\"{ix}.wav\")\n",
    "    if os.path.exists(dst_path):\n",
    "        return\n",
    "    wavfile.write(dst_path,rate,sample)"
   ]
  },
  {
   "cell_type": "code",
   "execution_count": 14,
   "metadata": {},
   "outputs": [],
   "source": [
    "def split_wavs(src = src_root, dst = dst_root, dt = dt,sf = sample_f,t = threshold):\n",
    "    wav_paths = glob('{}/**'.format(src), recursive=True)\n",
    "    wav_paths = [x for x in wav_paths if '.wav' in x]\n",
    "    check_dir(dst)\n",
    "    classes = os.listdir(src)\n",
    "    for _cls in classes:\n",
    "        target_dir = os.path.join(dst,_cls)\n",
    "        check_dir(target_dir)\n",
    "        from_dir = os.path.join(src,_cls)\n",
    "        for f in tqdm(os.listdir(from_dir)):\n",
    "            src_f = os.path.join(from_dir,f)\n",
    "            rate,wav = downsample_mono(src_f,sf)\n",
    "            \n",
    "            delta_sample = int(dt*rate)\n",
    "            trunc = wav.shape[0] % delta_sample\n",
    "            for cnt, i in enumerate(np.arange(0,wav.shape[0]-trunc,delta_sample)):\n",
    "                start = int(i)\n",
    "                stop = int(i+delta_sample)\n",
    "                raw_sample = wav[start:stop]\n",
    "                mask, env = envelope(raw_sample, rate,t)\n",
    "                noise_free_sample = raw_sample[mask]\n",
    "                sample = np.zeros(shape = (delta_sample,),dtype = np.int16)\n",
    "                sample[:noise_free_sample.shape[0]] = noise_free_sample\n",
    "                save_sample(sample,rate,target_dir,f,cnt)\n"
   ]
  },
  {
   "cell_type": "code",
   "execution_count": 15,
   "metadata": {},
   "outputs": [
    {
     "name": "stderr",
     "output_type": "stream",
     "text": [
      "100%|██████████| 6/6 [00:48<00:00,  8.14s/it]\n",
      "100%|██████████| 4/4 [00:36<00:00,  9.05s/it]\n"
     ]
    }
   ],
   "source": [
    "split_wavs()"
   ]
  }
 ],
 "metadata": {
  "interpreter": {
   "hash": "eae644867eb31c0212c044d0aace81c99be08ab7e0fa1466aeb4fe1c76984be4"
  },
  "kernelspec": {
   "display_name": "Python 3.10.4 64-bit",
   "language": "python",
   "name": "python3"
  },
  "language_info": {
   "codemirror_mode": {
    "name": "ipython",
    "version": 3
   },
   "file_extension": ".py",
   "mimetype": "text/x-python",
   "name": "python",
   "nbconvert_exporter": "python",
   "pygments_lexer": "ipython3",
   "version": "3.10.4"
  },
  "orig_nbformat": 4
 },
 "nbformat": 4,
 "nbformat_minor": 2
}
