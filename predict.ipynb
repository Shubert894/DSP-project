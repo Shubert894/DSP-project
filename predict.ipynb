{
 "cells": [
  {
   "cell_type": "code",
   "execution_count": 1,
   "metadata": {},
   "outputs": [],
   "source": [
    "import os\n",
    "import numpy as np\n",
    "import pandas as pd\n",
    "\n",
    "import warnings\n",
    "import tensorflow as tf\n",
    "import matplotlib.pyplot as plt\n",
    "from tqdm import tqdm\n",
    "\n",
    "import wavio\n",
    "from scipy.io import wavfile\n",
    "from librosa.core import resample, to_mono\n",
    "from glob import glob\n",
    "import sounddevice as sd\n",
    "\n",
    "import kapre\n",
    "from kapre.composed import get_melspectrogram_layer\n",
    "from kapre.time_frequency import STFT, Magnitude, ApplyFilterbank, MagnitudeToDecibel\n",
    "from sklearn.preprocessing import LabelEncoder\n",
    "from sklearn.utils.class_weight import compute_class_weight\n",
    "from sklearn.model_selection import train_test_split\n",
    "from tensorflow.keras import layers\n",
    "from tensorflow.keras.utils import to_categorical\n",
    "from tensorflow.keras.callbacks import CSVLogger, ModelCheckpoint\n",
    "from tensorflow.keras.layers import TimeDistributed, LayerNormalization\n",
    "from tensorflow.keras.models import Model\n",
    "from tensorflow.keras.regularizers import l2\n",
    "from tensorflow.keras.models import load_model"
   ]
  },
  {
   "cell_type": "code",
   "execution_count": 2,
   "metadata": {},
   "outputs": [],
   "source": [
    "src_root = 'raw_data'\n",
    "dst_root = 'clean'\n",
    "dt = 1.0\n",
    "sample_f = 44100\n",
    "dummy_file = 'finger_snaps_1_4'\n",
    "threshold = 120"
   ]
  },
  {
   "cell_type": "code",
   "execution_count": 3,
   "metadata": {},
   "outputs": [],
   "source": [
    "model = load_model(\"models/conv2d.h5\", custom_objects = {'STFT':STFT,\n",
    "                                          'Magnitude':Magnitude,\n",
    "                                          'ApplyFilterbank':ApplyFilterbank,\n",
    "                                          'MagnitudeToDecibel':MagnitudeToDecibel})"
   ]
  },
  {
   "cell_type": "code",
   "execution_count": 4,
   "metadata": {},
   "outputs": [],
   "source": [
    "def downsample_mono(path, sf):\n",
    "    obj = wavio.read(path)\n",
    "    wav = obj.data.astype(np.float32,order='F')\n",
    "    rate = obj.rate\n",
    "    try:\n",
    "        channel = wav.shape[1]\n",
    "        if channel == 2:\n",
    "            wav = to_mono(wav.T)\n",
    "        elif channel == 1:\n",
    "            wav = to_mono(wav.reshape(-1))\n",
    "    except IndexError:\n",
    "        wav = to_mono(wav.reshape(-1))\n",
    "        pass\n",
    "    except Exception as exc:\n",
    "        raise exc\n",
    "    wav = resample(wav, orig_sr = rate, target_sr = sf)\n",
    "    wav = wav.astype(np.int16)\n",
    "    return sf, wav"
   ]
  },
  {
   "cell_type": "code",
   "execution_count": 5,
   "metadata": {},
   "outputs": [],
   "source": [
    "def envelope(y, rate, t = threshold):\n",
    "    mask = []\n",
    "    y = pd.Series(y).apply(np.abs)\n",
    "    y_mean = y.rolling(window = int(rate/30), min_periods=1,center=True).mean()\n",
    "    for mean in y_mean:\n",
    "        if mean > t:\n",
    "            mask.append(True)\n",
    "        else:\n",
    "            mask.append(False)\n",
    "    return mask, y_mean"
   ]
  },
  {
   "cell_type": "code",
   "execution_count": 6,
   "metadata": {},
   "outputs": [],
   "source": [
    "def m_pred(wav,model=model,sf=sample_f, dt=dt):\n",
    "    step = int(sf*dt)\n",
    "    batch = []\n",
    "    \n",
    "    sample = wav.reshape(-1, 1)\n",
    "    if sample.shape[0] < step:\n",
    "        tmp = np.zeros(shape=(step, 1), dtype=np.float32)\n",
    "        tmp[:sample.shape[0],:] = sample.flatten().reshape(-1, 1)\n",
    "        sample = tmp\n",
    "    batch.append(sample)\n",
    "\n",
    "    X_batch = np.array(batch, dtype=np.float32)\n",
    "    y_pred = model.predict(X_batch)\n",
    "    y_mean = np.mean(y_pred, axis=0)\n",
    "    y_pred = np.argmax(y_mean)\n",
    "    return y_pred, y_mean"
   ]
  },
  {
   "cell_type": "code",
   "execution_count": 35,
   "metadata": {},
   "outputs": [],
   "source": [
    "pr = 'predict'\n",
    "pr_file_name = 'p1'"
   ]
  },
  {
   "cell_type": "code",
   "execution_count": 36,
   "metadata": {},
   "outputs": [],
   "source": [
    "def predict_wav(src = pr, fn = pr_file_name, sf = sample_f,t=threshold,dt=dt):\n",
    "    wav_paths = glob('{}/**'.format(src), recursive=True)\n",
    "    wav_path = [x for x in wav_paths if fn in x]\n",
    "    rate, wav = downsample_mono(wav_path[0], sf)\n",
    "    \n",
    "    delta_sample = int(dt*rate)\n",
    "    trunc = wav.shape[0] % delta_sample\n",
    "\n",
    "    seconds = []\n",
    "    \n",
    "    for cnt, i in enumerate(np.arange(0,wav.shape[0]-trunc,delta_sample)):\n",
    "        start = int(i)\n",
    "        stop = int(i+delta_sample)\n",
    "        raw_sample = wav[start:stop]\n",
    "        mask, env = envelope(raw_sample, rate,t)\n",
    "        noise_free_sample = raw_sample[mask]\n",
    "        sample = np.zeros(shape = (delta_sample,),dtype = np.int16)\n",
    "        sample[:noise_free_sample.shape[0]] = noise_free_sample\n",
    "        y_pred, y_mean = m_pred(sample)\n",
    "        if y_pred == 0:\n",
    "            seconds.append(cnt+1)\n",
    "        print(f\"{cnt}:{cnt+1}  {y_pred}   {y_mean}\")\n",
    "    \n",
    "    return seconds"
   ]
  },
  {
   "cell_type": "code",
   "execution_count": 37,
   "metadata": {},
   "outputs": [
    {
     "name": "stdout",
     "output_type": "stream",
     "text": [
      "1/1 [==============================] - 0s 86ms/step\n",
      "0:1  1   [0.01952885 0.98047113]\n",
      "1/1 [==============================] - 0s 77ms/step\n",
      "1:2  1   [0.00236903 0.99763095]\n",
      "1/1 [==============================] - 0s 78ms/step\n",
      "2:3  1   [0.00209377 0.9979062 ]\n",
      "1/1 [==============================] - 0s 77ms/step\n",
      "3:4  1   [0.01742334 0.98257667]\n",
      "1/1 [==============================] - 0s 79ms/step\n",
      "4:5  1   [0.2336937 0.7663063]\n",
      "1/1 [==============================] - 0s 83ms/step\n",
      "5:6  1   [0.01120897 0.988791  ]\n",
      "1/1 [==============================] - 0s 75ms/step\n",
      "6:7  1   [0.00525028 0.9947497 ]\n",
      "1/1 [==============================] - 0s 81ms/step\n",
      "7:8  1   [0.03295229 0.9670477 ]\n",
      "1/1 [==============================] - 0s 89ms/step\n",
      "8:9  1   [0.00242132 0.9975787 ]\n",
      "1/1 [==============================] - 0s 87ms/step\n",
      "9:10  1   [0.00736307 0.9926369 ]\n",
      "1/1 [==============================] - 0s 80ms/step\n",
      "10:11  1   [0.00126906 0.99873096]\n",
      "1/1 [==============================] - 0s 74ms/step\n",
      "11:12  1   [0.01271176 0.98728824]\n",
      "1/1 [==============================] - 0s 82ms/step\n",
      "12:13  1   [0.02675934 0.9732406 ]\n",
      "1/1 [==============================] - 0s 73ms/step\n",
      "13:14  1   [0.01569761 0.9843024 ]\n",
      "1/1 [==============================] - 0s 79ms/step\n",
      "14:15  0   [0.9957163  0.00428369]\n",
      "1/1 [==============================] - 0s 78ms/step\n",
      "15:16  1   [0.13545096 0.86454904]\n",
      "1/1 [==============================] - 0s 74ms/step\n",
      "16:17  1   [0.15179084 0.84820914]\n",
      "1/1 [==============================] - 0s 79ms/step\n",
      "17:18  1   [0.0401395 0.9598605]\n",
      "1/1 [==============================] - 0s 76ms/step\n",
      "18:19  1   [0.24288289 0.75711715]\n",
      "1/1 [==============================] - 0s 75ms/step\n",
      "19:20  1   [0.0218384 0.9781616]\n",
      "1/1 [==============================] - 0s 81ms/step\n",
      "20:21  1   [0.01696103 0.983039  ]\n",
      "1/1 [==============================] - 0s 83ms/step\n",
      "21:22  1   [0.0350857 0.9649143]\n",
      "1/1 [==============================] - 0s 76ms/step\n",
      "22:23  1   [0.15179084 0.84820914]\n",
      "1/1 [==============================] - 0s 77ms/step\n",
      "23:24  1   [0.05619758 0.94380236]\n",
      "1/1 [==============================] - 0s 77ms/step\n",
      "24:25  1   [0.01117476 0.98882526]\n",
      "1/1 [==============================] - 0s 79ms/step\n",
      "25:26  0   [0.92171645 0.07828353]\n",
      "1/1 [==============================] - 0s 74ms/step\n",
      "26:27  0   [0.55029196 0.44970804]\n",
      "1/1 [==============================] - 0s 77ms/step\n",
      "27:28  1   [0.15179084 0.84820914]\n",
      "1/1 [==============================] - 0s 73ms/step\n",
      "28:29  1   [0.47675008 0.5232499 ]\n",
      "1/1 [==============================] - 0s 75ms/step\n",
      "29:30  1   [0.05235001 0.94764996]\n"
     ]
    }
   ],
   "source": [
    "pred = predict_wav()"
   ]
  },
  {
   "cell_type": "code",
   "execution_count": 38,
   "metadata": {},
   "outputs": [],
   "source": [
    "import time\n",
    "\n",
    "def ltbm(src = pr, fn = pr_file_name, sf = sample_f):\n",
    "    wav_paths = glob('{}/**'.format(src), recursive=True)\n",
    "    wav_path = [x for x in wav_paths if fn in x]\n",
    "    rate, wav = downsample_mono(wav_path[0], sf)\n",
    "    sd.play(wav, rate)\n",
    "    print(pred)\n",
    "    for sec in range(wav.shape[0] // rate):\n",
    "        if sec in pred:\n",
    "            print(f\"Snap\")\n",
    "        time.sleep(1)\n",
    "            "
   ]
  },
  {
   "cell_type": "code",
   "execution_count": 39,
   "metadata": {},
   "outputs": [
    {
     "name": "stdout",
     "output_type": "stream",
     "text": [
      "[15, 26, 27]\n",
      "Snap\n",
      "Snap\n",
      "Snap\n"
     ]
    }
   ],
   "source": [
    "ltbm()\n",
    "\n"
   ]
  }
 ],
 "metadata": {
  "interpreter": {
   "hash": "eae644867eb31c0212c044d0aace81c99be08ab7e0fa1466aeb4fe1c76984be4"
  },
  "kernelspec": {
   "display_name": "Python 3.10.4 64-bit",
   "language": "python",
   "name": "python3"
  },
  "language_info": {
   "codemirror_mode": {
    "name": "ipython",
    "version": 3
   },
   "file_extension": ".py",
   "mimetype": "text/x-python",
   "name": "python",
   "nbconvert_exporter": "python",
   "pygments_lexer": "ipython3",
   "version": "3.10.4"
  },
  "orig_nbformat": 4
 },
 "nbformat": 4,
 "nbformat_minor": 2
}
